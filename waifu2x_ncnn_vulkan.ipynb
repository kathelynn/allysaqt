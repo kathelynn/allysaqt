{
  "nbformat": 4,
  "nbformat_minor": 0,
  "metadata": {
    "colab": {
      "name": "waifu2x-ncnn-vulkan.ipynb",
      "provenance": [],
      "authorship_tag": "ABX9TyMGoqeRNAiKreT1kWvsJ1lj",
      "include_colab_link": true
    },
    "kernelspec": {
      "name": "python3",
      "display_name": "Python 3"
    },
    "language_info": {
      "name": "python"
    }
  },
  "cells": [
    {
      "cell_type": "markdown",
      "metadata": {
        "id": "view-in-github",
        "colab_type": "text"
      },
      "source": [
        "<a href=\"https://colab.research.google.com/github/kathelynn/allysaqt/blob/main/waifu2x_ncnn_vulkan.ipynb\" target=\"_parent\"><img src=\"https://colab.research.google.com/assets/colab-badge.svg\" alt=\"Open In Colab\"/></a>"
      ]
    },
    {
      "cell_type": "markdown",
      "metadata": {
        "id": "lnzdf5QcfUPL"
      },
      "source": [
        "# waifu2x-ncnn-vulkan in Google Colab by kathelynn\n",
        "[ncnn-vulkan](https://github.com/nihui/waifu2x-ncnn-vulkan) is an alternative to [caffe](https://github.com/lltcggie/waifu2x-caffe).\n",
        "\n",
        "The ipynb for caffe will be available in the near future that utilizes Google Colab's GPU.\n",
        "\n",
        "This is CPU only but GPU can be enabled with a slight bit of tweaking."
      ]
    },
    {
      "cell_type": "markdown",
      "metadata": {
        "id": "yUn0h9HgKh-8"
      },
      "source": [
        "# Initialization\n",
        "Start the first block of code to initialize waifu2x. Do this by hovering on the code found below, and then press play. Wait for it to finish loading, and then scroll down until you see \"Input\"."
      ]
    },
    {
      "cell_type": "code",
      "metadata": {
        "id": "T4PabJqdBhWX"
      },
      "source": [
        "!pip install pycurl\n",
        "!apt install libvulkan-dev\n",
        "import pycurl\n",
        "from io import BytesIO\n",
        "from json import loads\n",
        "from google.colab import files\n",
        "b_obj = BytesIO() \n",
        "crl = pycurl.Curl()\n",
        "crl.setopt(crl.URL, 'https://api.github.com/repos/nihui/waifu2x-ncnn-vulkan/releases/latest')\n",
        "crl.setopt(crl.WRITEDATA, b_obj)\n",
        "crl.perform() \n",
        "crl.close()\n",
        "get_body = b_obj.getvalue().decode('utf8')\n",
        "get_body = loads(get_body)\n",
        "for item in get_body['assets']:\n",
        "  if 'ubuntu' in item['name']:\n",
        "    name = item['name'].replace('.zip', '')\n",
        "    url = item['browser_download_url']\n",
        "    break\n",
        "!curl -L -o waifu2x.zip \"https://github.com/nihui/waifu2x-ncnn-vulkan/releases/download/20210210/waifu2x-ncnn-vulkan-20210210-ubuntu.zip\"\n",
        "!unzip -q waifu2x.zip\n",
        "%rm -rf waifu2x.zip\n",
        "%cd $name\n",
        "print('Done!')"
      ],
      "execution_count": null,
      "outputs": []
    },
    {
      "cell_type": "markdown",
      "metadata": {
        "id": "KliMZYw4htGQ"
      },
      "source": [
        "# Input\n",
        "Run this block of code and press the Choose Files button to upload your images."
      ]
    },
    {
      "cell_type": "code",
      "metadata": {
        "id": "fqPo8f85Wm-h"
      },
      "source": [
        "%rm -rf input\n",
        "%mkdir input \n",
        "%cd input\n",
        "files.upload()\n",
        "%cd .."
      ],
      "execution_count": null,
      "outputs": []
    },
    {
      "cell_type": "markdown",
      "metadata": {
        "id": "qPvX4HGph9KP"
      },
      "source": [
        "# Output\n",
        "Run this block of code to process the images you've uploaded. Please take note that the process will take a while depending on the images uploaded. You may wait until the message \"Done!\" appears."
      ]
    },
    {
      "cell_type": "code",
      "metadata": {
        "id": "W-p7FvMhSMzd"
      },
      "source": [
        "%rm -rf output\n",
        "%mkdir output\n",
        "%cd /content/$name\n",
        "noise = int(input('Noise level? ') or 0)\n",
        "scale = int(input('Scale? ') or 2)\n",
        "!./waifu2x-ncnn-vulkan -g -1 -i input -o output -n $noise -s $scale\n",
        "print(\"Done!\")"
      ],
      "execution_count": null,
      "outputs": []
    },
    {
      "cell_type": "markdown",
      "metadata": {
        "id": "9f6d-sJrkuwH"
      },
      "source": [
        "# When not in use\n",
        "Please terminate the session so that you don't hit the quota too quickly. You can do this by pressing:    \n",
        "![image.png](data:image/png;base64,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)    \n",
        "*(Located at the top-right corner)*    \n",
        "From there, you can see your active sessions."
      ]
    },
    {
      "cell_type": "markdown",
      "metadata": {
        "id": "l61xdQEAiT3H"
      },
      "source": [
        "# Reset\n",
        "If nothing works properly, run this block of code. You will have to initialize waifu2x again!"
      ]
    },
    {
      "cell_type": "code",
      "metadata": {
        "id": "_F9sXZxcY0hr"
      },
      "source": [
        "%cd /content\n",
        "%rm -rf *"
      ],
      "execution_count": null,
      "outputs": []
    }
  ]
}